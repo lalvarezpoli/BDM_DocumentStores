{
 "cells": [
  {
   "cell_type": "markdown",
   "metadata": {},
   "source": [
    "![bse_logo_textminingcourse](https://bse.eu/sites/default/files/bse_logo_small.png)\n",
    "\n",
    "# Big Data Management - Assignment 1\n",
    "## Document Stores\n",
    "\n",
    "### by Luis Francisco Alvarez Poli, Mikel Gallo, Clarice Mottet\n",
    "\n",
    "0. **[Part 0: Set Up](#part0)**\n",
    "- **Objective**: Initialize programming environment.\n",
    "\n",
    "1. **[Part 1: Model Creation](#part1)**\n",
    "- **Objective**: Create three modeling alternatives using MongoDB.\n",
    "- **Tasks:**\n",
    "  - Model1: Two types of documents, one for each class and referenced fields.\n",
    "  - Model2: One document for “Person” with “Company” as embedded document.\n",
    "  - Model3: One document for “Company” with “Person” as embedded documents.\n",
    "\n",
    "2. **[Part 2: Query Execution](#part2)**\n",
    "- **Objective**: Execute four queries and log run time for each model.\n",
    "- **Tasks:**\n",
    "  - Query1: For each person, retrieve their full name and their company’s name.\n",
    "  - Query2: For each company, retrieve its name and the number of employees.\n",
    "  - Query3: For each person born before 1988, update their age to “30”.\n",
    "  - Query4: For each company, update its name to include the word “Company”.\n",
    "\n",
    "3. **[Part 3: Results & Discussion](#part3)**\n",
    "- **Objective**: Compare run times for query execution across the three models.\n",
    "- **Tasks:** \n",
    "  - Question1: Order queries from best to worst for Q1. Which model performs best? Why?\n",
    "  - Question2: Order queries from best to worst for Q2. Which model performs best? Why?\n",
    "  - Question3: Order queries from best to worst for Q3. Which model performs best? Why?\n",
    "  - Question4: Order queries from best to worst for Q4. Which model performs best? Why?\n",
    "  - Question5: What are your conclusions about denormalization or normalization of data in MongoDB? In the case of updates, which others better performance?\n"
   ]
  },
  {
   "cell_type": "markdown",
   "metadata": {},
   "source": [
    "## <a id='part0'>Part 0: Set Up</a>\n",
    "- **Objective**: Initialize programming environment."
   ]
  },
  {
   "cell_type": "code",
   "execution_count": 10,
   "metadata": {},
   "outputs": [],
   "source": [
    "#libraries\n",
    "import datetime\n",
    "import time\n",
    "import json\n",
    "from pymongo import MongoClient\n",
    "from bson.objectid import ObjectId\n",
    "from faker import Faker\n",
    "import pandas as pd\n",
    "import numpy as np\n",
    "import random\n",
    "\n",
    "#global variables\n",
    "NUMBER_OF_COMPANIES = 2\n",
    "NUMBER_OF_EMPLOYEES = 4"
   ]
  },
  {
   "cell_type": "markdown",
   "metadata": {},
   "source": [
    "## <a id='part1'>Part 1: Model Creation</a>\n",
    "- **Objective**: Create three modeling alternatives using MongoDB.\n",
    "- **Tasks:**\n",
    "  - Model1: Two types of documents, one for each class and referenced fields.\n",
    "  - Model2: One document for “Person” with “Company” as embedded document.\n",
    "  - Model3: One document for “Company” with “Person” as embedded documents."
   ]
  },
  {
   "cell_type": "markdown",
   "metadata": {},
   "source": [
    "### **Model1**: Two types of documents, one for each class and referenced fields."
   ]
  },
  {
   "cell_type": "code",
   "execution_count": 2,
   "metadata": {},
   "outputs": [],
   "source": [
    "#Model1\n",
    "\n",
    "class Model1:\n",
    "    #initialize the collection to hold two types of documents\n",
    "    def __init__(self, host='127.0.0.1', port=27017, dbname='test'):\n",
    "        self.client = MongoClient(host, port)\n",
    "        self.db = self.client[dbname]\n",
    "        self.db.drop_collection(\"model1\")\n",
    "        self.collection = self.db.create_collection('model1')\n",
    "\n",
    "    #create a function that generates data and stores it in the collection\n",
    "    def data_generator(self, n_company, n_person):\n",
    "        #create sample data\n",
    "        fake = Faker(['en_US'])\n",
    "\n",
    "        #create sample company data\n",
    "        for c in range(n_company):\n",
    "            company = {\n",
    "                'type': 'company',\n",
    "                'domain': fake.domain_word(),\n",
    "                'email': fake.ascii_company_email(),\n",
    "                'name': fake.company(),\n",
    "                'url': fake.uri(),\n",
    "                'vatNumber': fake.nic_handles(),\n",
    "                'staff': []\n",
    "            }\n",
    "            company_id = self.collection.insert_one(company).inserted_id\n",
    "            list_persons = []\n",
    "            \n",
    "            #create sample staff data\n",
    "            for p in range(n_person):\n",
    "                today = datetime.date.today()\n",
    "                dob = pd.to_datetime(fake.date_of_birth(minimum_age = 18, maximum_age = 67))\n",
    "                age = today.year - dob.year - ((today.month, today.day) < (dob.month, dob.day))\n",
    "                person = {\n",
    "                    'type': 'person',\n",
    "                    'age': age,\n",
    "                    'companyEmail': fake.ascii_company_email(),\n",
    "                    'dateOfBirth': dob,\n",
    "                    'email': fake.email(),\n",
    "                    'firstName': fake.first_name(),\n",
    "                    'secondName': fake.last_name(),\n",
    "                    'job': fake.job(),\n",
    "                    'worksIn': company_id\n",
    "                }\n",
    "                list_persons.append(person)\n",
    "            \n",
    "            inserted_persons = self.collection.insert_many(list_persons)\n",
    "            self.collection.update_one(\n",
    "                {'_id': company_id},\n",
    "                {'$set': {'staff': inserted_persons.inserted_ids}}\n",
    "            )\n",
    "\n",
    "    #query1: prints full name and company for all persons\n",
    "    def query1(self):\n",
    "        start_time = time.time()\n",
    "        for person in self.collection.find({\"type\": \"person\"}):\n",
    "            full_name = person['firstName'] + ' ' + person['secondName']\n",
    "            company = self.collection.find_one({'_id':person['worksIn']})\n",
    "            company_name = company['name']\n",
    "            print(\" \")\n",
    "            print(\"Full Name:\",full_name)\n",
    "            print(\"Company:\",company_name)\n",
    "        end_time = time.time()\n",
    "        run_time = end_time - start_time\n",
    "        return run_time\n",
    "    \n",
    "    #query2: prints the name and number of employees for all companies\n",
    "    def query2(self):\n",
    "        start_time = time.time()\n",
    "        for company in self.collection.find({\"type\": \"company\"}):\n",
    "            company_name = company['name']\n",
    "            number_of_employees = len(company['staff'])\n",
    "            print(\" \")\n",
    "            print(\"Company:\",company_name)\n",
    "            print(\"Number of Employees:\",number_of_employees)\n",
    "        end_time = time.time()\n",
    "        run_time = end_time - start_time\n",
    "        return run_time\n",
    "        \n",
    "    #query3: update the age to be 30 for all persons whose date of birth is before 1988-01-01\n",
    "    def query3(self):\n",
    "        start_time = time.time()\n",
    "        for person in self.collection.find({\"type\": \"person\"}):\n",
    "            dob = person['dateOfBirth']\n",
    "            if dob < pd.to_datetime('1988-01-01'):\n",
    "                print(\" \")\n",
    "                print(\" Pre - Age Change:\",person['age'])\n",
    "                result = self.collection.update_one(\n",
    "                            {'_id': person['_id']},\n",
    "                            {'$set': {'age': 30}}\n",
    "                        )\n",
    "                person_ = self.collection.find_one({'_id':person['_id']})\n",
    "                print(\"Post - Age Change:\",person_['age'])\n",
    "        end_time = time.time()\n",
    "        run_time = end_time - start_time\n",
    "        return run_time\n",
    "\n",
    "    #query4: update the company name to include the word \"Company\"    \n",
    "    def query4(self):\n",
    "        start_time = time.time()\n",
    "        for company in self.collection.find({\"type\": \"company\"}):\n",
    "            company_name = company['name']\n",
    "            print(\" \")\n",
    "            print(\" Pre - Name Change:\",company_name)\n",
    "            result = self.collection.update_one(\n",
    "                        {'_id': company['_id']},\n",
    "                        {'$set': {'name': \"Company \"+company_name}}\n",
    "                    )\n",
    "            company_ = self.collection.find_one({'_id':company['_id']})\n",
    "            print(\"Post - Name Change:\",company_['name'])\n",
    "        end_time = time.time()\n",
    "        run_time = end_time - start_time\n",
    "        return run_time\n"
   ]
  },
  {
   "cell_type": "markdown",
   "metadata": {},
   "source": [
    "### **Model2**: One document for “Person” with “Company” as embedded document."
   ]
  },
  {
   "cell_type": "code",
   "execution_count": 12,
   "metadata": {},
   "outputs": [],
   "source": [
    "class Model2:\n",
    "    #initialize the collection to hold one document with 'persons' and their respective firms\n",
    "    #should be the slowest one, I guess.\n",
    "    def __init__(self, host='127.0.0.1', port=27017, dbname='test'):\n",
    "        self.client = MongoClient(host, port)\n",
    "        self.db = self.client[dbname]\n",
    "        self.db.drop_collection(\"model2\")\n",
    "        self.collection = self.db.create_collection('model2')\n",
    "\n",
    "    #create a function that generates data and stores it in the collection\n",
    "    def data_generator(self, n_company, n_person):\n",
    "        # create sample data\n",
    "        fake = Faker(['en_US'])\n",
    "\n",
    "        # create sample company data\n",
    "        companies = []\n",
    "        for c in range(n_company):\n",
    "            company = {\n",
    "                'type': 'company',\n",
    "                '_id': ObjectId(),  # Generate a unique ID for each company\n",
    "                'domain': fake.domain_word(),\n",
    "                'email': fake.ascii_company_email(),\n",
    "                'name': fake.company(),\n",
    "                'url': fake.uri(),\n",
    "                'vatNumber': fake.nic_handles()\n",
    "            }\n",
    "            companies.append(company)\n",
    "\n",
    "        # create sample staff data\n",
    "        persons = []\n",
    "        for p in range(n_person):\n",
    "            today = datetime.date.today()\n",
    "            dob = pd.to_datetime(fake.date_of_birth(minimum_age=18, maximum_age=67))\n",
    "            age = today.year - dob.year - ((today.month, today.day) < (dob.month, dob.day))\n",
    "            company = random.choice(companies)  # Choose a random company\n",
    "            person = {\n",
    "                'type': 'person',\n",
    "                '_id': ObjectId(),  # Generate a unique ID for each person\n",
    "                'age': age,\n",
    "                'companyEmail': fake.ascii_company_email(),\n",
    "                'dateOfBirth': dob,\n",
    "                'email': fake.email(),\n",
    "                'firstName': fake.first_name(),\n",
    "                'secondName': fake.last_name(),\n",
    "                'job': fake.job(),\n",
    "                'worksIn': company  # Embed the company information within the person document\n",
    "            }\n",
    "            persons.append(person)\n",
    "\n",
    "        # Insert all person documents into the collection\n",
    "        self.collection.insert_many(persons)\n",
    "\n",
    "\n",
    "     #query1: prints full name and company for all persons\n",
    "    def query1(self):\n",
    "        start_time = time.time()\n",
    "        for person in self.collection.find({\"type\": \"person\"}):\n",
    "            full_name = person['firstName'] + ' ' + person['secondName']\n",
    "            company_name = person['worksIn']['name']\n",
    "            print(\" \")\n",
    "            print(\"Full Name:\", full_name)\n",
    "            print(\"Company:\", company_name)\n",
    "        end_time = time.time()\n",
    "        run_time = end_time - start_time\n",
    "        return run_time\n",
    "\n",
    "#query2: prints the name and number of employees for all companies\n",
    "    def query2(self):\n",
    "        start_time = time.time()\n",
    "        companies = {}\n",
    "        for person in self.collection.find({\"type\": \"person\"}):\n",
    "            company_name = person['worksIn']['name']\n",
    "            if company_name not in companies.keys():\n",
    "                companies[company_name] = 1\n",
    "            else:\n",
    "                companies[company_name] += 1\n",
    "        for company, num in companies.items():\n",
    "            print(\" \")\n",
    "            print('Company:', company, '\\n Num of Employees:', num) \n",
    "        end_time = time.time()\n",
    "        run_time = end_time - start_time\n",
    "        return run_time\n",
    "\n",
    "    #query3: update the age to be 30 for all persons whose date of birth is before 1988-01-01\n",
    "    def query3(self):\n",
    "            start_time = time.time()\n",
    "            for person in self.collection.find({\"type\": \"person\"}):\n",
    "                dob = person['dateOfBirth']\n",
    "                if dob < pd.to_datetime('1988-01-01'):\n",
    "                    print(\" \")\n",
    "                    print(\" Pre - Age Change:\",person['age'])\n",
    "                    result = self.collection.update_one(\n",
    "                                {'_id': person['_id']},\n",
    "                                {'$set': {'age': 30}}\n",
    "                            )\n",
    "                    person_ = self.collection.find_one({'_id':person['_id']})\n",
    "                    print(\"Post - Age Change:\",person_['age'])\n",
    "            end_time = time.time()\n",
    "            run_time = end_time - start_time\n",
    "            return run_time\n",
    "\n",
    "    #query4: update the company name to include the word \"Company\"    \n",
    "    def query4(self):\n",
    "        start_time = time.time()\n",
    "        for person in self.collection.find({\"type\": \"person\"}):\n",
    "            company_name = person['worksIn']['name']\n",
    "            print(\" \")\n",
    "            print(\"Pre - Name Change:\", company_name)\n",
    "            \n",
    "            # Update the company name within the worksIn field of the person document\n",
    "            result = self.collection.update_one(\n",
    "                {'_id': person['_id']},\n",
    "                {'$set': {'worksIn.name': \"Company \" + company_name}}\n",
    "            )\n",
    "\n",
    "            # Fetch and print the updated company name\n",
    "            updated_person = self.collection.find_one({'_id': person['_id']})\n",
    "            updated_company_name = updated_person['worksIn']['name']\n",
    "            print(\"Post - Name Change:\", updated_company_name)\n",
    "\n",
    "        end_time = time.time()\n",
    "        run_time = end_time - start_time\n",
    "        return run_time\n",
    "\n"
   ]
  },
  {
   "cell_type": "markdown",
   "metadata": {},
   "source": [
    "### **Model3**: One document for “Company” with “Person” as embedded documents."
   ]
  },
  {
   "cell_type": "code",
   "execution_count": null,
   "metadata": {},
   "outputs": [],
   "source": [
    "#Model3\n"
   ]
  },
  {
   "cell_type": "markdown",
   "metadata": {},
   "source": [
    "## <a id='part2'>Part 2: Query Execution</a>\n",
    "- **Objective**: Execute four queries and log run time for each model.\n",
    "- **Tasks:**\n",
    "  - Query1: For each person, retrieve their full name and their company’s name.\n",
    "  - Query2: For each company, retrieve its name and the number of employees.\n",
    "  - Query3: For each person born before 1988, update their age to “30”.\n",
    "  - Query4: For each company, update its name to include the word “Company”."
   ]
  },
  {
   "cell_type": "code",
   "execution_count": 13,
   "metadata": {},
   "outputs": [],
   "source": [
    "#Initialize models and data generation\n",
    "\n",
    "#Model1\n",
    "model1 = Model1()\n",
    "model1.data_generator(NUMBER_OF_COMPANIES, NUMBER_OF_EMPLOYEES)\n",
    "\n",
    "#model2\n",
    "model2 = Model2()\n",
    "model2.data_generator(NUMBER_OF_COMPANIES,NUMBER_OF_EMPLOYEES)\n",
    "#model3\n"
   ]
  },
  {
   "cell_type": "markdown",
   "metadata": {},
   "source": [
    "### **Query1**: For each person, retrieve their full name and their company’s name.\n"
   ]
  },
  {
   "cell_type": "code",
   "execution_count": 5,
   "metadata": {},
   "outputs": [
    {
     "name": "stdout",
     "output_type": "stream",
     "text": [
      "Model1 - Query1==========\n",
      "\n",
      " \n",
      "Full Name: Veronica Wood\n",
      "Company: Valentine-Miller\n",
      " \n",
      "Full Name: Tammy Oneill\n",
      "Company: Valentine-Miller\n",
      " \n",
      "Full Name: Deborah Whitney\n",
      "Company: Valentine-Miller\n",
      " \n",
      "Full Name: Paul Rodriguez\n",
      "Company: Valentine-Miller\n",
      " \n",
      "Full Name: Matthew Palmer\n",
      "Company: Cantrell, Fuller and Santos\n",
      " \n",
      "Full Name: Ashley Brooks\n",
      "Company: Cantrell, Fuller and Santos\n",
      " \n",
      "Full Name: Heather Allen\n",
      "Company: Cantrell, Fuller and Santos\n",
      " \n",
      "Full Name: Brenda Sanchez\n",
      "Company: Cantrell, Fuller and Santos\n",
      "Model2 - Query1==========\n",
      "\n",
      " \n",
      "Full Name: Devin Meyers\n",
      "Company: Crawford-Matthews\n",
      " \n",
      "Full Name: Lisa Hardy\n",
      "Company: Crawford-Matthews\n",
      " \n",
      "Full Name: Rachel Rowe\n",
      "Company: Crawford-Matthews\n",
      " \n",
      "Full Name: Timothy Browning\n",
      "Company: Crawford-Matthews\n",
      " \n",
      "Full Name: Scott Carr\n",
      "Company: Smith, Lucero and Jones\n",
      " \n",
      "Full Name: Thomas Henderson\n",
      "Company: Smith, Lucero and Jones\n",
      " \n",
      "Full Name: Karina Thompson\n",
      "Company: Smith, Lucero and Jones\n",
      " \n",
      "Full Name: Wendy Murray\n",
      "Company: Smith, Lucero and Jones\n",
      "Model3 - Query1==========\n"
     ]
    }
   ],
   "source": [
    "#Model1 - Query1\n",
    "print(\"Model1 - Query1==========\\n\")\n",
    "q1_m1_run_time = model1.query1()\n",
    "\n",
    "#Model2 - Query1\n",
    "print(\"Model2 - Query1==========\\n\")\n",
    "q1_m2_run_time = model2.query1()\n",
    "\n",
    "#Model3 - Query1\n",
    "print(\"Model3 - Query1==========\")\n",
    "#\n"
   ]
  },
  {
   "cell_type": "markdown",
   "metadata": {},
   "source": [
    "### **Query2**: For each company, retrieve its name and the number of employees.\n"
   ]
  },
  {
   "cell_type": "code",
   "execution_count": 6,
   "metadata": {},
   "outputs": [
    {
     "name": "stdout",
     "output_type": "stream",
     "text": [
      "Model1 - Query2==========\n",
      " \n",
      "Company: Valentine-Miller\n",
      "Number of Employees: 4\n",
      " \n",
      "Company: Cantrell, Fuller and Santos\n",
      "Number of Employees: 4\n",
      "Model2 - Query2==========\n",
      " \n",
      "Company: Crawford-Matthews \n",
      " Num of Employees: 4\n",
      " \n",
      "Company: Smith, Lucero and Jones \n",
      " Num of Employees: 4\n",
      "Model3 - Query3==========\n"
     ]
    }
   ],
   "source": [
    "#Model1 - Query2\n",
    "print(\"Model1 - Query2==========\")\n",
    "q2_m1_run_time = model1.query2()\n",
    "\n",
    "#Model2 - Query2\n",
    "print(\"Model2 - Query2==========\")\n",
    "q2_m2_run_time = model2.query2()\n",
    "\n",
    "#Model3 - Query3\n",
    "print(\"Model3 - Query3==========\")\n",
    "#\n"
   ]
  },
  {
   "cell_type": "markdown",
   "metadata": {},
   "source": [
    "### **Query3**: For each person born before 1988, update their age to “30”."
   ]
  },
  {
   "cell_type": "code",
   "execution_count": 14,
   "metadata": {},
   "outputs": [
    {
     "name": "stdout",
     "output_type": "stream",
     "text": [
      "Model1 - Query3==========\n",
      " \n",
      " Pre - Age Change: 36\n",
      "Post - Age Change: 30\n",
      " \n",
      " Pre - Age Change: 47\n",
      "Post - Age Change: 30\n",
      " \n",
      " Pre - Age Change: 45\n",
      "Post - Age Change: 30\n",
      " \n",
      " Pre - Age Change: 62\n",
      "Post - Age Change: 30\n",
      " \n",
      " Pre - Age Change: 60\n",
      "Post - Age Change: 30\n",
      " \n",
      " Pre - Age Change: 42\n",
      "Post - Age Change: 30\n",
      "Model2 - Query3==========\n",
      " \n",
      " Pre - Age Change: 38\n",
      "Post - Age Change: 30\n",
      " \n",
      " Pre - Age Change: 64\n",
      "Post - Age Change: 30\n",
      " \n",
      " Pre - Age Change: 64\n",
      "Post - Age Change: 30\n",
      "Model3 - Query3==========\n"
     ]
    }
   ],
   "source": [
    "#Model1 - Query3\n",
    "print(\"Model1 - Query3==========\")\n",
    "q3_m1_run_time = model1.query3()\n",
    "\n",
    "#Model2 - Query3\n",
    "print(\"Model2 - Query3==========\")\n",
    "q3_m2_run_time = model2.query3()\n",
    "\n",
    "#Model3 - Query3\n",
    "print(\"Model3 - Query3==========\")\n",
    "#\n"
   ]
  },
  {
   "cell_type": "markdown",
   "metadata": {},
   "source": [
    "### **Query4**: For each company, update its name to include the word “Company”."
   ]
  },
  {
   "cell_type": "code",
   "execution_count": 21,
   "metadata": {},
   "outputs": [
    {
     "name": "stdout",
     "output_type": "stream",
     "text": [
      "Model1 - Query4==========\n",
      " \n",
      " Pre - Name Change: Company Company Company Company Company Company Mccormick, Moore and Flores\n",
      "Post - Name Change: Company Company Company Company Company Company Company Mccormick, Moore and Flores\n",
      " \n",
      " Pre - Name Change: Company Company Company Company Company Company Morris-Hayes\n",
      "Post - Name Change: Company Company Company Company Company Company Company Morris-Hayes\n",
      "Model2 - Query4==========\n",
      " \n",
      "Pre - Name Change: Company Company Company Company Company Company Webster Inc\n",
      "Post - Name Change: Company Company Company Company Company Company Company Webster Inc\n",
      " \n",
      "Pre - Name Change: Company Company Company Company Company Company Webster Inc\n",
      "Post - Name Change: Company Company Company Company Company Company Company Webster Inc\n",
      " \n",
      "Pre - Name Change: Company Company Company Company Company Company Webster Inc\n",
      "Post - Name Change: Company Company Company Company Company Company Company Webster Inc\n",
      " \n",
      "Pre - Name Change: Company Company Company Company Company Company Kelly Ltd\n",
      "Post - Name Change: Company Company Company Company Company Company Company Kelly Ltd\n",
      "Model3 - Query4==========\n"
     ]
    }
   ],
   "source": [
    "#Model1 - Query4\n",
    "print(\"Model1 - Query4==========\")\n",
    "q4_m1_run_time = model1.query4()\n",
    "\n",
    "#Model2 - Query4\n",
    "print(\"Model2 - Query4==========\")\n",
    "q4_m2_run_time = model2.query4()\n",
    "\n",
    "\n",
    "#Model3 - Query4\n",
    "print(\"Model3 - Query4==========\")\n",
    "#\n"
   ]
  },
  {
   "cell_type": "markdown",
   "metadata": {},
   "source": [
    "### Append run time results into a dataframe to present"
   ]
  },
  {
   "cell_type": "code",
   "execution_count": null,
   "metadata": {},
   "outputs": [],
   "source": [
    "#compile run times for Model1\n",
    "columns = ['Model','Q1_run_time','Q2_run_time','Q3_run_time','Q4_run_time']\n",
    "ls_m1_run_times = ['Model 1', q1_m1_run_time, q2_m1_run_time, q3_m1_run_time, q4_m1_run_time]\n",
    "ls_m2_run_times = ['Model 2', q1_m1_run_time, q2_m1_run_time, q3_m1_run_time, q4_m1_run_time]\n",
    "#ls_m3_run_times = ['Model 2', q1_m3_run_time, q2_m3_run_time, q3_m3_run_time, q4_m3_run_time]\n",
    "\n",
    "\n",
    "df_m1 = pd.DataFrame([ls_m1_run_times], columns=columns)\n",
    "df_m2 = pd.DataFrame([ls_m2_run_times], columns=columns)\n",
    "#df_m3 = pd.DataFrame([ls_m3_run_times], columns=columns)\n",
    "\n",
    "# Concatenate the DataFrames to create a single DataFrame\n",
    "df_combined = pd.concat([df_m1, df_m2], ignore_index=True)\n"
   ]
  },
  {
   "cell_type": "markdown",
   "metadata": {},
   "source": [
    "## <a id='part3'>Part 3: Results & Discussion</a>\n",
    "- **Objective**: Compare run times for query execution across the three models.\n",
    "- **Tasks:** \n",
    "  - Question1: Order queries from best to worst for Q1. Which model performs best? Why?\n",
    "  - Question2: Order queries from best to worst for Q2. Which model performs best? Why?\n",
    "  - Question3: Order queries from best to worst for Q3. Which model performs best? Why?\n",
    "  - Question4: Order queries from best to worst for Q4. Which model performs best? Why?\n",
    "  - Question5: What are your conclusions about denormalization or normalization of data in MongoDB? In the case of updates, which others better performance?"
   ]
  },
  {
   "cell_type": "code",
   "execution_count": null,
   "metadata": {},
   "outputs": [],
   "source": [
    "#table of all the run times of queries goes here"
   ]
  },
  {
   "cell_type": "markdown",
   "metadata": {},
   "source": [
    "### **Question1**: Order queries from best to worst for Q1. Which model performs best? Why?"
   ]
  },
  {
   "cell_type": "markdown",
   "metadata": {},
   "source": []
  },
  {
   "cell_type": "markdown",
   "metadata": {},
   "source": [
    "### **Question2**: Order queries from best to worst for Q2. Which model performs best? Why?"
   ]
  },
  {
   "cell_type": "markdown",
   "metadata": {},
   "source": []
  },
  {
   "cell_type": "markdown",
   "metadata": {},
   "source": [
    "### **Question3**: Order queries from best to worst for Q3. Which model performs best? Why?"
   ]
  },
  {
   "cell_type": "markdown",
   "metadata": {},
   "source": []
  },
  {
   "cell_type": "markdown",
   "metadata": {},
   "source": [
    "### **Question4**: Order queries from best to worst for Q4. Which model performs best? Why?"
   ]
  },
  {
   "cell_type": "markdown",
   "metadata": {},
   "source": []
  },
  {
   "cell_type": "markdown",
   "metadata": {},
   "source": [
    "### **Question5**: What are your conclusions about denormalization or normalization of data in MongoDB? In the case of updates, which others better performance?"
   ]
  },
  {
   "cell_type": "markdown",
   "metadata": {},
   "source": []
  },
  {
   "cell_type": "code",
   "execution_count": null,
   "metadata": {},
   "outputs": [],
   "source": []
  }
 ],
 "metadata": {
  "kernelspec": {
   "display_name": "Python 3",
   "language": "python",
   "name": "python3"
  },
  "language_info": {
   "codemirror_mode": {
    "name": "ipython",
    "version": 3
   },
   "file_extension": ".py",
   "mimetype": "text/x-python",
   "name": "python",
   "nbconvert_exporter": "python",
   "pygments_lexer": "ipython3",
   "version": "3.9.18"
  }
 },
 "nbformat": 4,
 "nbformat_minor": 2
}
