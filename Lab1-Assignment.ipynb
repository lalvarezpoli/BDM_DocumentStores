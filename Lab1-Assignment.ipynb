{
 "cells": [
  {
   "cell_type": "markdown",
   "metadata": {},
   "source": [
    "![bse_logo_textminingcourse](https://bse.eu/sites/default/files/bse_logo_small.png)\n",
    "\n",
    "# Big Data Management - Assignment 1\n",
    "## Document Stores\n",
    "\n",
    "### by Luis Francisco Alvarez Poli, Mikel Gallo, Clarice Mottet\n",
    "\n",
    "0. **[Part 0: Set Up](#part0)**\n",
    "- **Objective**: Initialize programming environment and generate data.\n",
    "\n",
    "1. **[Part 1: Model Creation](#part1)**\n",
    "- **Objective**: Create three modeling alternatives using MongoDB.\n",
    "- **Tasks:**\n",
    "  - Model1: Two types of documents, one for each class and referenced fields.\n",
    "  - Model2: One document for “Person” with “Company” as embedded document.\n",
    "  - Model3: One document for “Company” with “Person” as embedded documents.\n",
    "\n",
    "2. **[Part 2: Query Execution](#part2)**\n",
    "- **Objective**: Execute four queries and log run time for each model.\n",
    "- **Tasks:**\n",
    "  - Query1: For each person, retrieve their full name and their company’s name.\n",
    "  - Query2: For each company, retrieve its name and the number of employees.\n",
    "  - Query3: For each person born before 1988, update their age to “30”.\n",
    "  - Query4: For each company, update its name to include the word “Company”.\n",
    "\n",
    "3. **[Part 3: Results & Discussion](#part3)**\n",
    "- **Objective**: Compare run times for query execution across the three models.\n",
    "- **Tasks:** \n",
    "  - Question1: Order queries from best to worst for Q1. Which model performs best? Why?\n",
    "  - Question2: Order queries from best to worst for Q2. Which model performs best? Why?\n",
    "  - Question3: Order queries from best to worst for Q3. Which model performs best? Why?\n",
    "  - Question4: Order queries from best to worst for Q4. Which model performs best? Why?\n",
    "  - Question5: What are your conclusions about denormalization or normalization of data in MongoDB? In the case of updates, which others better performance?\n"
   ]
  },
  {
   "cell_type": "markdown",
   "metadata": {},
   "source": [
    "## <a id='part0'>Part 0: Set Up</a>\n",
    "- **Objective**: Initialize programming environment and generate fake data."
   ]
  },
  {
   "cell_type": "code",
   "execution_count": 7,
   "metadata": {},
   "outputs": [],
   "source": [
    "#libraries\n",
    "import datetime\n",
    "import time\n",
    "import json\n",
    "from pymongo import MongoClient\n",
    "from bson.objectid import ObjectId\n",
    "from faker import Faker\n",
    "import pandas as pd\n",
    "import numpy as np\n",
    "\n",
    "#global variables\n",
    "NUMBER_OF_COMPANIES = 2\n",
    "NUMBER_OF_EMPLOYEES = 4"
   ]
  },
  {
   "cell_type": "markdown",
   "metadata": {},
   "source": [
    "## <a id='part1'>Part 1: Model Creation</a>\n",
    "- **Objective**: Create three modeling alternatives using MongoDB.\n",
    "- **Tasks:**\n",
    "  - Model1: Two types of documents, one for each class and referenced fields.\n",
    "  - Model2: One document for “Person” with “Company” as embedded document.\n",
    "  - Model3: One document for “Company” with “Person” as embedded documents."
   ]
  },
  {
   "cell_type": "markdown",
   "metadata": {},
   "source": [
    "### **Model1**: Two types of documents, one for each class and referenced fields."
   ]
  },
  {
   "cell_type": "code",
   "execution_count": 32,
   "metadata": {},
   "outputs": [],
   "source": [
    "#model1\n",
    "\n",
    "class Model1:\n",
    "    def __init__(self, host='127.0.0.1', port=27017, dbname='test'):\n",
    "        client = MongoClient(host, port)\n",
    "        self.db = self.client[dbname]\n",
    "        self.db.drop_collection(\"model1\")\n",
    "        self.collection = self.db.create_collection('model1')\n",
    "\n",
    "\n",
    "    def data_generator(self, n_company, n_person):\n",
    "        with self.client:\n",
    "            #create sample data\n",
    "            fake = Faker(['en_US'])\n",
    "\n",
    "            #create sample company data\n",
    "            for c in range(n_company):\n",
    "                company = {\n",
    "                    'type': 'company',\n",
    "                    'domain': fake.domain_word(),\n",
    "                    'email': fake.ascii_company_email(),\n",
    "                    'name': fake.company(),\n",
    "                    'url': fake.uri(),\n",
    "                    'vatNumber': fake.nic_handles(),\n",
    "                    'staff': []\n",
    "                }\n",
    "                company_id = self.collection.insert_one(company).inserted_id\n",
    "                list_persons = []\n",
    "                \n",
    "                #create sample staff data\n",
    "                for p in range(n_person):\n",
    "                    today = datetime.date.today()\n",
    "                    dob = pd.to_datetime(fake.date_of_birth(minimum_age = 18, maximum_age = 67))\n",
    "                    age = today.year - dob.year - ((today.month, today.day) < (dob.month, dob.day))\n",
    "                    person = {\n",
    "                        'type': 'person',\n",
    "                        'age': age,\n",
    "                        'companyEmail': fake.ascii_company_email(),\n",
    "                        'dateOfBirth': dob,\n",
    "                        'email': fake.email(),\n",
    "                        'firstName': fake.first_name(),\n",
    "                        'secondName': fake.last_name(),\n",
    "                        'job': fake.job(),\n",
    "                        'worksIn': company_id\n",
    "                    }\n",
    "                    list_persons.append(person)\n",
    "                \n",
    "                inserted_persons = self.collection.insert_many(list_persons)\n",
    "                self.collection.update_one(\n",
    "                    {'_id': company_id},\n",
    "                    {'$set': {'staff': inserted_persons.inserted_ids}}\n",
    "                )\n",
    "\n",
    "    def query1(self):\n",
    "        with self.client:\n",
    "            start_time = time.time()\n",
    "            for person in self.collection.find({\"type\": \"person\"}):\n",
    "                full_name = person['firstName'] + ' ' + person['secondName']\n",
    "                company = self.collection.find_one({'_id':person['worksIn']})\n",
    "                company_name = company['name']\n",
    "                print(\" \")\n",
    "                print(\"Full Name:\",full_name)\n",
    "                print(\"Company:\",company_name)\n",
    "            end_time = time.time()\n",
    "            run_time = end_time - start_time\n",
    "            return run_time\n",
    "        \n",
    "    def query2(self):\n",
    "        with self.client:\n",
    "            start_time = time.time()\n",
    "            for company in self.collection.find({\"type\": \"company\"}):\n",
    "                company_name = company['name']\n",
    "                number_of_employees = len(company['staff'])\n",
    "                print(\" \")\n",
    "                print(\"Company:\",company_name)\n",
    "                print(\"Number of Employees:\",number_of_employees)\n",
    "            end_time = time.time()\n",
    "            run_time = end_time - start_time\n",
    "            return run_time\n",
    "        \n",
    "    def query3(self):\n",
    "        with self.client:\n",
    "            start_time = time.time()\n",
    "            for person in self.collection.find({\"type\": \"person\"}):\n",
    "                dob = person['dateOfBirth']\n",
    "                if dob < pd.to_datetime('1988-01-01'):\n",
    "                    print(\" \")\n",
    "                    print(\" Pre - Age Change:\",person['age'])\n",
    "                    result = self.collection.update_one(\n",
    "                                {'_id': person['_id']},\n",
    "                                {'$set': {'age': 30}}\n",
    "                            )\n",
    "                    person_ = self.collection.find_one({'_id':person['_id']})\n",
    "                    print(\"Post - Age Change:\",person_['age'])\n",
    "            end_time = time.time()\n",
    "            run_time = end_time - start_time\n",
    "            return run_time\n",
    "    \n",
    "    def query4(self):\n",
    "        with self.client:\n",
    "            start_time = time.time()\n",
    "            for company in self.collection.find({\"type\": \"company\"}):\n",
    "                company_name = company['name']\n",
    "                print(\" \")\n",
    "                print(\" Pre - Name Change:\",company_name)\n",
    "                result = self.collection.update_one(\n",
    "                            {'_id': company['_id']},\n",
    "                            {'$set': {'name': \"Company \"+company_name}}\n",
    "                        )\n",
    "                company_ = self.collection.find_one({'_id':company['_id']})\n",
    "                print(\"Post - Name Change:\",company_['name'])\n",
    "            end_time = time.time()\n",
    "            run_time = end_time - start_time\n",
    "            return run_time"
   ]
  },
  {
   "cell_type": "code",
   "execution_count": 63,
   "metadata": {},
   "outputs": [],
   "source": [
    "#test code\n",
    "\n",
    "n_company = NUMBER_OF_COMPANIES\n",
    "n_person = NUMBER_OF_EMPLOYEES\n",
    "\n",
    "client = MongoClient('127.0.0.1', 27017)\n",
    "db = client['test']\n",
    "db.drop_collection(\"model1\")\n",
    "collection = db.create_collection('model1')\n",
    "\n",
    "\n",
    "#create sample data\n",
    "fake = Faker(['en_US'])\n",
    "\n",
    "#create sample company data\n",
    "for c in range(n_company):\n",
    "    company = {\n",
    "        'type': 'company',\n",
    "        'domain': fake.domain_word(),\n",
    "        'email': fake.ascii_company_email(),\n",
    "        'name': fake.company(),\n",
    "        'url': fake.uri(),\n",
    "        'vatNumber': fake.nic_handles(),\n",
    "        'staff': []\n",
    "    }\n",
    "    company_id = collection.insert_one(company).inserted_id\n",
    "    list_persons = []\n",
    "    \n",
    "    #create sample staff data\n",
    "    for p in range(n_person):\n",
    "        today = datetime.date.today()\n",
    "        dob = pd.to_datetime(fake.date_of_birth(minimum_age = 18, maximum_age = 67))\n",
    "        age = today.year - dob.year - ((today.month, today.day) < (dob.month, dob.day))\n",
    "        person = {\n",
    "            'type': 'person',\n",
    "            'age': age,\n",
    "            'companyEmail': fake.ascii_company_email(),\n",
    "            'dateOfBirth': dob,\n",
    "            'email': fake.email(),\n",
    "            'firstName': fake.first_name(),\n",
    "            'secondName': fake.last_name(),\n",
    "            'job': fake.job(),\n",
    "            'worksIn': company_id\n",
    "        }\n",
    "        list_persons.append(person)\n",
    "    \n",
    "    inserted_persons = collection.insert_many(list_persons)\n",
    "    collection.update_one(\n",
    "        {'_id': company_id},\n",
    "        {'$set': {'staff': inserted_persons.inserted_ids}}\n",
    "    )\n"
   ]
  },
  {
   "cell_type": "code",
   "execution_count": 64,
   "metadata": {},
   "outputs": [
    {
     "name": "stdout",
     "output_type": "stream",
     "text": [
      " \n",
      "Full Name: Kimberly Simpson\n",
      "Company: Lee, Hernandez and Martinez\n",
      " \n",
      "Full Name: John Lopez\n",
      "Company: Lee, Hernandez and Martinez\n",
      " \n",
      "Full Name: James Skinner\n",
      "Company: Lee, Hernandez and Martinez\n",
      " \n",
      "Full Name: Kristin Boone\n",
      "Company: Lee, Hernandez and Martinez\n",
      " \n",
      "Full Name: Michelle Norman\n",
      "Company: Parker-Barber\n",
      " \n",
      "Full Name: Francisco Little\n",
      "Company: Parker-Barber\n",
      " \n",
      "Full Name: Michelle Serrano\n",
      "Company: Parker-Barber\n",
      " \n",
      "Full Name: Erik Flores\n",
      "Company: Parker-Barber\n"
     ]
    }
   ],
   "source": [
    "#Q1: print full name and print company name\n",
    "\n",
    "start_time = time.time()\n",
    "for person in collection.find({\"type\": \"person\"}):\n",
    "    full_name = person['firstName'] + ' ' + person['secondName']\n",
    "    company = collection.find_one({'_id':person['worksIn']})\n",
    "    company_name = company['name']\n",
    "    print(\" \")\n",
    "    print(\"Full Name:\",full_name)\n",
    "    print(\"Company:\",company_name)\n",
    "end_time = time.time()\n",
    "run_time = end_time - start_time\n"
   ]
  },
  {
   "cell_type": "code",
   "execution_count": 65,
   "metadata": {},
   "outputs": [
    {
     "name": "stdout",
     "output_type": "stream",
     "text": [
      " \n",
      "Company: Lee, Hernandez and Martinez\n",
      "Number of Employees: 4\n",
      " \n",
      "Company: Parker-Barber\n",
      "Number of Employees: 4\n"
     ]
    }
   ],
   "source": [
    "#Q2: for each company, retrieve its name and the number of employees\n",
    "\n",
    "start_time = time.time()\n",
    "for company in collection.find({\"type\": \"company\"}):\n",
    "    company_name = company['name']\n",
    "    number_of_employees = len(company['staff'])\n",
    "    print(\" \")\n",
    "    print(\"Company:\",company_name)\n",
    "    print(\"Number of Employees:\",number_of_employees)\n",
    "end_time = time.time()\n",
    "run_time = end_time - start_time\n"
   ]
  },
  {
   "cell_type": "code",
   "execution_count": 70,
   "metadata": {},
   "outputs": [
    {
     "name": "stdout",
     "output_type": "stream",
     "text": [
      " \n",
      " Pre - Age Change: 30\n",
      "Post - Age Change: 30\n",
      " \n",
      " Pre - Age Change: 30\n",
      "Post - Age Change: 30\n",
      " \n",
      " Pre - Age Change: 30\n",
      "Post - Age Change: 30\n",
      " \n",
      " Pre - Age Change: 30\n",
      "Post - Age Change: 30\n"
     ]
    }
   ],
   "source": [
    "#Q3: for each person born before 1988, update their age to \"30\"\n",
    "\n",
    "start_time = time.time()\n",
    "for person in collection.find({\"type\": \"person\"}):\n",
    "    dob = person['dateOfBirth']\n",
    "    if dob < pd.to_datetime('1988-01-01'):\n",
    "        print(\" \")\n",
    "        print(\" Pre - Age Change:\",person['age'])\n",
    "        result = collection.update_one(\n",
    "                    {'_id': person['_id']},\n",
    "                    {'$set': {'age': 30}}\n",
    "        )\n",
    "        person_ = collection.find_one({'_id':person['_id']})\n",
    "        print(\"Post - Age Change:\",person_['age'])\n",
    "end_time = time.time()\n",
    "run_time = end_time - start_time\n"
   ]
  },
  {
   "cell_type": "code",
   "execution_count": 71,
   "metadata": {},
   "outputs": [
    {
     "name": "stdout",
     "output_type": "stream",
     "text": [
      "{'_id': ObjectId('662c0a37813fe61339781181'), 'type': 'company', 'domain': 'young', 'email': 'jessicagarcia@brewer-norris.net', 'name': 'Lee, Hernandez and Martinez', 'url': 'http://hardy.biz/app/tags/blogsearch.asp', 'vatNumber': ['TN172-NFDS'], 'staff': [ObjectId('662c0a37813fe61339781182'), ObjectId('662c0a37813fe61339781183'), ObjectId('662c0a37813fe61339781184'), ObjectId('662c0a37813fe61339781185')]}\n",
      " \n",
      " Pre - Name Change: Lee, Hernandez and Martinez\n",
      "Post - Name Change: Company Lee, Hernandez and Martinez\n",
      "{'_id': ObjectId('662c0a37813fe61339781186'), 'type': 'company', 'domain': 'henderson', 'email': 'samuellittle@dunlap.biz', 'name': 'Parker-Barber', 'url': 'http://www.chandler-evans.net/tags/tag/wp-contentpost.htm', 'vatNumber': ['SZ21689-WJKB'], 'staff': [ObjectId('662c0a37813fe61339781187'), ObjectId('662c0a37813fe61339781188'), ObjectId('662c0a37813fe61339781189'), ObjectId('662c0a37813fe6133978118a')]}\n",
      " \n",
      " Pre - Name Change: Parker-Barber\n",
      "Post - Name Change: Company Parker-Barber\n"
     ]
    }
   ],
   "source": [
    "#Q4: for each company, update its name to include the word company\n",
    "\n",
    "start_time = time.time()\n",
    "for company in collection.find({\"type\": \"company\"}):\n",
    "    company_name = company['name']\n",
    "    print(\" \")\n",
    "    print(\" Pre - Name Change:\",company_name)\n",
    "    result = collection.update_one(\n",
    "                {'_id': company['_id']},\n",
    "                {'$set': {'name': \"Company \"+company_name}}\n",
    "            )\n",
    "    company_ = collection.find_one({'_id':company['_id']})\n",
    "    print(\"Post - Name Change:\",company_['name'])\n",
    "end_time = time.time()\n",
    "run_time = end_time - start_time\n"
   ]
  },
  {
   "cell_type": "markdown",
   "metadata": {},
   "source": [
    "### **Model2**: One document for “Person” with “Company” as embedded document."
   ]
  },
  {
   "cell_type": "code",
   "execution_count": null,
   "metadata": {},
   "outputs": [],
   "source": [
    "#model2\n"
   ]
  },
  {
   "cell_type": "markdown",
   "metadata": {},
   "source": [
    "### **Model3**: One document for “Company” with “Person” as embedded documents."
   ]
  },
  {
   "cell_type": "code",
   "execution_count": null,
   "metadata": {},
   "outputs": [],
   "source": [
    "#model3"
   ]
  },
  {
   "cell_type": "markdown",
   "metadata": {},
   "source": [
    "## <a id='part2'>Part 2: Query Execution</a>\n",
    "- **Objective**: Execute four queries and log run time for each model.\n",
    "- **Tasks:**\n",
    "  - Query1: For each person, retrieve their full name and their company’s name.\n",
    "  - Query2: For each company, retrieve its name and the number of employees.\n",
    "  - Query3: For each person born before 1988, update their age to “30”.\n",
    "  - Query4: For each company, update its name to include the word “Company”."
   ]
  },
  {
   "cell_type": "code",
   "execution_count": null,
   "metadata": {},
   "outputs": [],
   "source": [
    "#initialize a dataframe to hold all query run times for each model here"
   ]
  },
  {
   "cell_type": "markdown",
   "metadata": {},
   "source": [
    "### **Query1**: For each person, retrieve their full name and their company’s name.\n"
   ]
  },
  {
   "cell_type": "code",
   "execution_count": null,
   "metadata": {},
   "outputs": [],
   "source": []
  },
  {
   "cell_type": "markdown",
   "metadata": {},
   "source": [
    "### **Query2**: For each company, retrieve its name and the number of employees.\n"
   ]
  },
  {
   "cell_type": "code",
   "execution_count": null,
   "metadata": {},
   "outputs": [],
   "source": []
  },
  {
   "cell_type": "markdown",
   "metadata": {},
   "source": [
    "### **Query3**: For each person born before 1988, update their age to “30”."
   ]
  },
  {
   "cell_type": "code",
   "execution_count": null,
   "metadata": {},
   "outputs": [],
   "source": []
  },
  {
   "cell_type": "markdown",
   "metadata": {},
   "source": [
    "### **Query4**: For each company, update its name to include the word “Company”."
   ]
  },
  {
   "cell_type": "code",
   "execution_count": null,
   "metadata": {},
   "outputs": [],
   "source": []
  },
  {
   "cell_type": "markdown",
   "metadata": {},
   "source": [
    "## <a id='part3'>Part 3: Results & Discussion</a>\n",
    "- **Objective**: Compare run times for query execution across the three models.\n",
    "- **Tasks:** \n",
    "  - Question1: Order queries from best to worst for Q1. Which model performs best? Why?\n",
    "  - Question2: Order queries from best to worst for Q2. Which model performs best? Why?\n",
    "  - Question3: Order queries from best to worst for Q3. Which model performs best? Why?\n",
    "  - Question4: Order queries from best to worst for Q4. Which model performs best? Why?\n",
    "  - Question5: What are your conclusions about denormalization or normalization of data in MongoDB? In the case of updates, which others better performance?"
   ]
  },
  {
   "cell_type": "code",
   "execution_count": null,
   "metadata": {},
   "outputs": [],
   "source": [
    "#table of all the run times of queries goes here"
   ]
  },
  {
   "cell_type": "markdown",
   "metadata": {},
   "source": [
    "### **Question1**: Order queries from best to worst for Q1. Which model performs best? Why?"
   ]
  },
  {
   "cell_type": "markdown",
   "metadata": {},
   "source": []
  },
  {
   "cell_type": "markdown",
   "metadata": {},
   "source": [
    "### **Question2**: Order queries from best to worst for Q2. Which model performs best? Why?"
   ]
  },
  {
   "cell_type": "markdown",
   "metadata": {},
   "source": []
  },
  {
   "cell_type": "markdown",
   "metadata": {},
   "source": [
    "### **Question3**: Order queries from best to worst for Q3. Which model performs best? Why?"
   ]
  },
  {
   "cell_type": "markdown",
   "metadata": {},
   "source": []
  },
  {
   "cell_type": "markdown",
   "metadata": {},
   "source": [
    "### **Question4**: Order queries from best to worst for Q4. Which model performs best? Why?"
   ]
  },
  {
   "cell_type": "markdown",
   "metadata": {},
   "source": []
  },
  {
   "cell_type": "markdown",
   "metadata": {},
   "source": [
    "### **Question5**: What are your conclusions about denormalization or normalization of data in MongoDB? In the case of updates, which others better performance?"
   ]
  },
  {
   "cell_type": "markdown",
   "metadata": {},
   "source": []
  },
  {
   "cell_type": "code",
   "execution_count": null,
   "metadata": {},
   "outputs": [],
   "source": []
  }
 ],
 "metadata": {
  "kernelspec": {
   "display_name": "Python 3",
   "language": "python",
   "name": "python3"
  },
  "language_info": {
   "codemirror_mode": {
    "name": "ipython",
    "version": 3
   },
   "file_extension": ".py",
   "mimetype": "text/x-python",
   "name": "python",
   "nbconvert_exporter": "python",
   "pygments_lexer": "ipython3",
   "version": "3.10.12"
  }
 },
 "nbformat": 4,
 "nbformat_minor": 2
}
