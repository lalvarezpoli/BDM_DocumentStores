{
 "cells": [
  {
   "cell_type": "markdown",
   "metadata": {},
   "source": [
    "![bse_logo_textminingcourse](https://bse.eu/sites/default/files/bse_logo_small.png)\n",
    "\n",
    "# Big Data Management - Assignment 1\n",
    "## Document Stores\n",
    "\n",
    "### by Luis Francisco Alvarez Poli, Mikel Gallo, Clarice Mottet\n",
    "\n",
    "0. **[Part 0: Set Up](#part0)**\n",
    "- **Objective**: Initialize programming environment and generate fake data.\n",
    "\n",
    "1. **[Part 1: Model Creation](#part1)**\n",
    "- **Objective**: Create three modeling alternatives using MongoDB.\n",
    "- **Tasks:**\n",
    "  - Model1: Two types of documents, one for each class and referenced fields.\n",
    "  - Model2: One document for “Person” with “Company” as embedded document.\n",
    "  - Model3: One document for “Company” with “Person” as embedded documents.\n",
    "\n",
    "2. **[Part 2: Query Execution](#part2)**\n",
    "- **Objective**: Execute four queries and log run time for each model.\n",
    "- **Tasks:**\n",
    "  - Query1: For each person, retrieve their full name and their company’s name.\n",
    "  - Query2: For each company, retrieve its name and the number of employees.\n",
    "  - Query3: For each person born before 1988, update their age to “30”.\n",
    "  - Query4: For each company, update its name to include the word “Company”.\n",
    "\n",
    "3. **[Part 3: Results & Discussion](#part3)**\n",
    "- **Objective**: Compare run times for query execution across the three models.\n",
    "- **Tasks:** \n",
    "  - Question1: Order queries from best to worst for Q1. Which model performs best? Why?\n",
    "  - Question2: Order queries from best to worst for Q2. Which model performs best? Why?\n",
    "  - Question3: Order queries from best to worst for Q3. Which model performs best? Why?\n",
    "  - Question4: Order queries from best to worst for Q4. Which model performs best? Why?\n",
    "  - Question5: What are your conclusions about denormalization or normalization of data in MongoDB? In the case of updates, which others better performance?\n"
   ]
  },
  {
   "cell_type": "markdown",
   "metadata": {},
   "source": [
    "## <a id='part0'>Part 0: Set Up</a>\n",
    "- **Objective**: Initialize programming environment and generate fake data."
   ]
  },
  {
   "cell_type": "code",
   "execution_count": 2,
   "metadata": {},
   "outputs": [],
   "source": [
    "#libraries\n",
    "import datetime\n",
    "import time\n",
    "import json\n",
    "from pymongo import MongoClient\n",
    "from faker import Faker\n",
    "import pandas as pd\n",
    "import numpy as np\n"
   ]
  },
  {
   "cell_type": "code",
   "execution_count": null,
   "metadata": {},
   "outputs": [],
   "source": [
    "#generate fake data\n"
   ]
  },
  {
   "cell_type": "markdown",
   "metadata": {},
   "source": [
    "## <a id='part1'>Part 1: Model Creation</a>\n",
    "- **Objective**: Create three modeling alternatives using MongoDB.\n",
    "- **Tasks:**\n",
    "  - Model1: Two types of documents, one for each class and referenced fields.\n",
    "  - Model2: One document for “Person” with “Company” as embedded document.\n",
    "  - Model3: One document for “Company” with “Person” as embedded documents."
   ]
  },
  {
   "cell_type": "markdown",
   "metadata": {},
   "source": [
    "### **Model1**: Two types of documents, one for each class and referenced fields."
   ]
  },
  {
   "cell_type": "code",
   "execution_count": null,
   "metadata": {},
   "outputs": [],
   "source": [
    "#model1"
   ]
  },
  {
   "cell_type": "markdown",
   "metadata": {},
   "source": [
    "### **Model2**: One document for “Person” with “Company” as embedded document."
   ]
  },
  {
   "cell_type": "code",
   "execution_count": null,
   "metadata": {},
   "outputs": [],
   "source": [
    "#model2"
   ]
  },
  {
   "cell_type": "markdown",
   "metadata": {},
   "source": [
    "### **Model3**: One document for “Company” with “Person” as embedded documents."
   ]
  },
  {
   "cell_type": "code",
   "execution_count": null,
   "metadata": {},
   "outputs": [],
   "source": [
    "#model3"
   ]
  },
  {
   "cell_type": "markdown",
   "metadata": {},
   "source": [
    "## <a id='part2'>Part 2: Query Execution</a>\n",
    "- **Objective**: Execute four queries and log run time for each model.\n",
    "- **Tasks:**\n",
    "  - Query1: For each person, retrieve their full name and their company’s name.\n",
    "  - Query2: For each company, retrieve its name and the number of employees.\n",
    "  - Query3: For each person born before 1988, update their age to “30”.\n",
    "  - Query4: For each company, update its name to include the word “Company”."
   ]
  },
  {
   "cell_type": "code",
   "execution_count": null,
   "metadata": {},
   "outputs": [],
   "source": [
    "#initialize a dataframe to hold all query run times for each model here"
   ]
  },
  {
   "cell_type": "markdown",
   "metadata": {},
   "source": [
    "### **Query1**: For each person, retrieve their full name and their company’s name.\n"
   ]
  },
  {
   "cell_type": "code",
   "execution_count": null,
   "metadata": {},
   "outputs": [],
   "source": []
  },
  {
   "cell_type": "markdown",
   "metadata": {},
   "source": [
    "### **Query2**: For each company, retrieve its name and the number of employees.\n"
   ]
  },
  {
   "cell_type": "code",
   "execution_count": null,
   "metadata": {},
   "outputs": [],
   "source": []
  },
  {
   "cell_type": "markdown",
   "metadata": {},
   "source": [
    "### **Query3**: For each person born before 1988, update their age to “30”."
   ]
  },
  {
   "cell_type": "code",
   "execution_count": null,
   "metadata": {},
   "outputs": [],
   "source": []
  },
  {
   "cell_type": "markdown",
   "metadata": {},
   "source": [
    "### **Query4**: For each company, update its name to include the word “Company”."
   ]
  },
  {
   "cell_type": "code",
   "execution_count": null,
   "metadata": {},
   "outputs": [],
   "source": []
  },
  {
   "cell_type": "markdown",
   "metadata": {},
   "source": [
    "## <a id='part3'>Part 3: Results & Discussion</a>\n",
    "- **Objective**: Compare run times for query execution across the three models.\n",
    "- **Tasks:** \n",
    "  - Question1: Order queries from best to worst for Q1. Which model performs best? Why?\n",
    "  - Question2: Order queries from best to worst for Q2. Which model performs best? Why?\n",
    "  - Question3: Order queries from best to worst for Q3. Which model performs best? Why?\n",
    "  - Question4: Order queries from best to worst for Q4. Which model performs best? Why?\n",
    "  - Question5: What are your conclusions about denormalization or normalization of data in MongoDB? In the case of updates, which others better performance?"
   ]
  },
  {
   "cell_type": "code",
   "execution_count": null,
   "metadata": {},
   "outputs": [],
   "source": [
    "#table of all the run times of queries goes here"
   ]
  },
  {
   "cell_type": "markdown",
   "metadata": {},
   "source": [
    "### **Question1**: Order queries from best to worst for Q1. Which model performs best? Why?"
   ]
  },
  {
   "cell_type": "markdown",
   "metadata": {},
   "source": []
  },
  {
   "cell_type": "markdown",
   "metadata": {},
   "source": [
    "### **Question2**: Order queries from best to worst for Q2. Which model performs best? Why?"
   ]
  },
  {
   "cell_type": "markdown",
   "metadata": {},
   "source": []
  },
  {
   "cell_type": "markdown",
   "metadata": {},
   "source": [
    "### **Question3**: Order queries from best to worst for Q3. Which model performs best? Why?"
   ]
  },
  {
   "cell_type": "markdown",
   "metadata": {},
   "source": []
  },
  {
   "cell_type": "markdown",
   "metadata": {},
   "source": [
    "### **Question4**: Order queries from best to worst for Q4. Which model performs best? Why?"
   ]
  },
  {
   "cell_type": "markdown",
   "metadata": {},
   "source": []
  },
  {
   "cell_type": "markdown",
   "metadata": {},
   "source": [
    "### **Question5**: What are your conclusions about denormalization or normalization of data in MongoDB? In the case of updates, which others better performance?"
   ]
  },
  {
   "cell_type": "markdown",
   "metadata": {},
   "source": []
  }
 ],
 "metadata": {
  "kernelspec": {
   "display_name": "Python 3",
   "language": "python",
   "name": "python3"
  },
  "language_info": {
   "codemirror_mode": {
    "name": "ipython",
    "version": 3
   },
   "file_extension": ".py",
   "mimetype": "text/x-python",
   "name": "python",
   "nbconvert_exporter": "python",
   "pygments_lexer": "ipython3",
   "version": "3.10.12"
  }
 },
 "nbformat": 4,
 "nbformat_minor": 2
}
